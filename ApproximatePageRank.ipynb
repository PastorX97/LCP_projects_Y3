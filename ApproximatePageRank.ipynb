{
 "cells": [
  {
   "cell_type": "markdown",
   "metadata": {},
   "source": [
    "# Local PageRank - Local similarities in the nodes of a network"
   ]
  },
  {
   "cell_type": "code",
   "execution_count": 3,
   "metadata": {},
   "outputs": [],
   "source": [
    "# Import useful libraries\n",
    "import numpy as np\n",
    "import scipy as sp\n",
    "import matplotlib.pyplot as plt\n",
    "import networkx as nx\n",
    "import time\n",
    "import queue\n",
    "\n",
    "%matplotlib inline"
   ]
  },
  {
   "cell_type": "code",
   "execution_count": 4,
   "metadata": {},
   "outputs": [
    {
     "name": "stdout",
     "output_type": "stream",
     "text": [
      "Name: \n",
      "Type: Graph\n",
      "Number of nodes: 22470\n",
      "Number of edges: 171002\n",
      "Average degree:  15.2205\n",
      "\n",
      "The node target is 109 and its degree is 31\n"
     ]
    }
   ],
   "source": [
    "# Import an undirected network\n",
    "path = 'data/networks/musae_facebook_22000.csv'\n",
    "G = nx.read_edgelist(path, delimiter=',', nodetype=int)\n",
    "A = nx.linalg.graphmatrix.adjacency_matrix(G)\n",
    "\n",
    "# Print info of the generated Graph\n",
    "print(nx.info(G))\n",
    "\n",
    "# Plot the adjacency matrix\n",
    "#print('\\nAdjacency matrix')\n",
    "#plt.figure(figsize=(5,5))\n",
    "#plt.spy(A, marker=',')\n",
    "#plt.show()\n",
    "\n",
    "# Initialize of the node target\n",
    "node_target = 109\n",
    "print('\\nThe node target is', node_target, 'and its degree is', G.degree(node_target))"
   ]
  },
  {
   "cell_type": "markdown",
   "metadata": {},
   "source": [
    "<h2>Classical approach using the power iteration algorithm</h2>"
   ]
  },
  {
   "cell_type": "code",
   "execution_count": 74,
   "metadata": {},
   "outputs": [
    {
     "name": "stdout",
     "output_type": "stream",
     "text": [
      "Elapsed time:  0.055897 seconds\n"
     ]
    },
    {
     "data": {
      "image/png": "[encoded data removed]",
      "text/plain": [
       "<Figure size 432x288 with 1 Axes>"
      ]
     },
     "metadata": {
      "needs_background": "light"
     },
     "output_type": "display_data"
    }
   ],
   "source": [
    "#compute PageRank algorith with power iteration (from network science)\n",
    "def pageRank(M, t, iterations):\n",
    "    N = M.shape[1]\n",
    "    c = 0.85\n",
    "    p = np.ones(N)/N\n",
    "\n",
    "    for i in range(iterations):\n",
    "        p = c * M * p + (1-c) * t #pagerank formula\n",
    "        p = p/sum(p) #normalization\n",
    "\n",
    "    return p\n",
    "\n",
    "\n",
    "# dimension of the matrix\n",
    "N = A.shape[0]\n",
    "\n",
    "#teleport vector\n",
    "# for normal pagerank all nodes have the same teleport probability\n",
    "# for local pagerank only a subset of nodes have non-negative probabilty\n",
    "t = np.zeros(N)/N\n",
    "\n",
    "start = time.time()\n",
    "p = pageRank(A, t, 10)\n",
    "stop = time.time()\n",
    "print('Elapsed time: ', str(stop-start)[0:8], 'seconds')\n",
    "\n",
    "plt.plot(p)\n",
    "plt.show()"
   ]
  },
  {
   "cell_type": "markdown",
   "metadata": {},
   "source": [
    "<h2>Scalable approach using the results of Andersen, Chung, Lang. 2006</h2>"
   ]
  },
  {
   "cell_type": "code",
   "execution_count": 75,
   "metadata": {},
   "outputs": [],
   "source": [
    "# Input:\n",
    "# - the graph of the network\n",
    "# - a dictionary of target nodes with, as value, the initial residual\n",
    "#   (it can accept more than one target node)\n",
    "# - the teleport constant alpha\n",
    "# - a target precision epsilon\n",
    "#\n",
    "# Output:\n",
    "# - a PageRank dictionary\n",
    "#\n",
    "def approximatePageRank(G, target_nodes, alpha, epsilon):\n",
    "\n",
    "    # Initialization\n",
    "    D = 2*G.number_of_edges()\n",
    "    # PageRank\n",
    "    p = {}\n",
    "    # Residuals\n",
    "    r = target_nodes.copy()\n",
    "    # Degrees\n",
    "    d = {}\n",
    "    for n in target_nodes:\n",
    "        d[n] = G.degree(n)\n",
    "\n",
    "    # Calculate the initial queue based on the \"r / d >= epsilon\" condition\n",
    "    queue = [key for key in r.keys() if (d[key] > 0) and (r[key]*D >= epsilon * d[key])]\n",
    "\n",
    "    # Iterate until the queue is not empty\n",
    "    while(queue):\n",
    "\n",
    "        # Take the first element of the queue\n",
    "        node_u = queue[0]\n",
    "        \n",
    "        # Perform the push operation\n",
    "        # Update the PageRank dictionary\n",
    "        if node_u in p:\n",
    "            p[node_u] += (1-alpha) * r[node_u]\n",
    "        else:\n",
    "            p[node_u] = (1-alpha) * r[node_u]\n",
    "        \n",
    "        # Update the residual of the node u\n",
    "        r[node_u] = alpha * r[node_u] / 2\n",
    "\n",
    "        # Compute the new residuals of the neighbors of u\n",
    "        for node_v in G.neighbors(node_u):\n",
    "            if node_v in r:\n",
    "                r[node_v] += r[node_u] / d[node_u]\n",
    "            else:\n",
    "                r[node_v] = r[node_u] / d[node_u]\n",
    "                d[node_v] = G.degree(node_v)\n",
    "\n",
    "        # Recompute the queue\n",
    "        queue = [key for key in r.keys() if (d[key] > 0) and (r[key]*D >= epsilon * d[key])]\n",
    "\n",
    "    return p"
   ]
  },
  {
   "cell_type": "code",
   "execution_count": 77,
   "metadata": {},
   "outputs": [],
   "source": [
    "def arrayFromDict(p):\n",
    "\n",
    "    # Get values and keys from the dictionary\n",
    "    p_values = list(p.values())\n",
    "    p_keys = np.array(list(p.keys()))\n",
    "\n",
    "    # Normalize PageRank vector\n",
    "    p_values = np.array(p_values) / sum(p_values)\n",
    "\n",
    "    # Compute an array filling the missing nodes with zeros\n",
    "    p_V = np.zeros(np.max(p_keys)+1)\n",
    "    p_V[p_keys] = p_values\n",
    "\n",
    "    return p_V"
   ]
  },
  {
   "cell_type": "code",
   "execution_count": 83,
   "metadata": {
    "scrolled": true
   },
   "outputs": [
    {
     "name": "stdout",
     "output_type": "stream",
     "text": [
      "Our implementation of the Approximate PageRank\n",
      "Elapsed time: 8.129053 seconds\n"
     ]
    }
   ],
   "source": [
    "# Initialize the parameters\n",
    "personalization_vector = {node_target : 1}\n",
    "alpha = 0.85\n",
    "epsilon = 1\n",
    "\n",
    "# Compute the PageRank dictionary with our implementation\n",
    "start = time.time()\n",
    "p = approximatePageRank(G, personalization_vector, alpha, epsilon)\n",
    "stop = time.time()\n",
    "\n",
    "print('Our implementation of the Approximate PageRank')\n",
    "print('Elapsed time:', str(stop-start)[0:8], 'seconds')\n",
    "\n",
    "our_p_vector = arrayFromDict(p)"
   ]
  },
  {
   "cell_type": "code",
   "execution_count": 79,
   "metadata": {},
   "outputs": [
    {
     "name": "stdout",
     "output_type": "stream",
     "text": [
      "Networkx implementation of the PageRank\n",
      "Elapsed time: 7.554569 seconds\n"
     ]
    }
   ],
   "source": [
    "# Compute the PageRank dictionary with networkx implementation\n",
    "start = time.time()\n",
    "p = nx.pagerank(G, personalization=personalization_vector, max_iter=20, weight=None)\n",
    "stop = time.time()\n",
    "\n",
    "print('Networkx implementation of the PageRank')\n",
    "print('Elapsed time:', str(stop-start)[0:8], 'seconds')\n",
    "\n",
    "nx_p_vector = arrayFromDict(p)"
   ]
  },
  {
   "cell_type": "code",
   "execution_count": 80,
   "metadata": {},
   "outputs": [
    {
     "data": {
      "image/png": "[encoded data removed]",
      "text/plain": [
       "<Figure size 1080x432 with 2 Axes>"
      ]
     },
     "metadata": {
      "needs_background": "light"
     },
     "output_type": "display_data"
    }
   ],
   "source": [
    "# Plot the difference between the two solutions\n",
    "fig, axs = plt.subplots(1, 2, figsize=(15,6))\n",
    "fig.suptitle('Difference between networkx and our implementation of personalized PageRank')\n",
    "axs[0].plot(nx_p_vector)\n",
    "axs[0].set_title('Networkx implementation')\n",
    "axs[1].plot(our_p_vector)\n",
    "axs[1].set_title('Our implementation')\n",
    "plt.show()"
   ]
  },
  {
   "cell_type": "markdown",
   "metadata": {},
   "source": [
    "<h1>TASK 2</h1>\n",
    "<h3>Speed up the algorithm using a FIFO queue. </h3>"
   ]
  },
  {
   "cell_type": "code",
   "execution_count": 84,
   "metadata": {},
   "outputs": [],
   "source": [
    "# Input:\n",
    "# - the graph of the network\n",
    "# - a dictionary of target nodes with, as value, the initial residual\n",
    "#   (it can accept more than one target node)\n",
    "# - the teleport constant alpha\n",
    "# - a target precision epsilon\n",
    "#\n",
    "# Output:\n",
    "# - a PageRank dictionary\n",
    "#\n",
    "def approximatePageRank_queue(G, target_nodes, alpha, epsilon):\n",
    "\n",
    "    # Initialization\n",
    "    D = 2*G.number_of_edges()\n",
    "    \n",
    "    # PageRank\n",
    "    p = {}\n",
    "    \n",
    "    # Residuals\n",
    "    r = target_nodes.copy()\n",
    "    \n",
    "    # Create the FIFO queue\n",
    "    q = queue.Queue()\n",
    "    \n",
    "    # Degrees\n",
    "    d = {}\n",
    "    \n",
    "    for n in target_nodes:\n",
    "        d[n] = G.degree(n)\n",
    "        q.put(n)\n",
    "\n",
    "    # Iterate until the queue is not empty\n",
    "    while(q.qsize()>0):\n",
    "        #print(q.qsize())\n",
    "        #print(list(q.queue)[:(min(10,q.qsize()-1))])\n",
    "        \n",
    "        # Take the first element of the queue\n",
    "        node_u = q.get()\n",
    "        #get the next element if it doesn't satisfy the condition\n",
    "        while(r[node_u]*D < epsilon*d[node_u]):\n",
    "            node_u = q.get()\n",
    "        \n",
    "        # Perform the push operation\n",
    "        # Update the PageRank dictionary\n",
    "        if node_u in p:\n",
    "            p[node_u] += (1-alpha) * r[node_u]\n",
    "        else:\n",
    "            p[node_u] = (1-alpha) * r[node_u]\n",
    "        \n",
    "        # Update the residual of the node u\n",
    "        r[node_u] = alpha * r[node_u] / 2\n",
    "\n",
    "        # Compute the new residuals of the neighbors of u\n",
    "        for node_v in G.neighbors(node_u):\n",
    "            if node_v in r:\n",
    "                r[node_v] += r[node_u] / d[node_u]\n",
    "            else:\n",
    "                r[node_v] = r[node_u] / d[node_u]\n",
    "                d[node_v] = G.degree(node_v)\n",
    "                \n",
    "            if d[node_v]>0 and r[node_v]*D >= epsilon*d[node_v] :\n",
    "                q.put(node_v)\n",
    "        \n",
    "        if r[node_u]*D >= epsilon*d[node_u]:\n",
    "            q.put(node_u)\n",
    "        \n",
    "    return p"
   ]
  },
  {
   "cell_type": "markdown",
   "metadata": {},
   "source": [
    "<h3>Proof of concept for a speed up using linear composition of Basis Vector </h3> as in http://infolab.stanford.edu/~glenj/spws.pdf"
   ]
  },
  {
   "cell_type": "code",
   "execution_count": 82,
   "metadata": {},
   "outputs": [
    {
     "data": {
      "image/png": "[encoded data removed]",
      "text/plain": [
       "<Figure size 1080x360 with 3 Axes>"
      ]
     },
     "metadata": {
      "needs_background": "light"
     },
     "output_type": "display_data"
    }
   ],
   "source": [
    "fig, axs = plt.subplots(1, 3, figsize=(15,5))\n",
    "\n",
    "personalization_vector = {1:1, 2:2}\n",
    "alpha = 0.85\n",
    "epsilon = 1\n",
    "\n",
    "p = approximatePageRank_queue(G, personalization_vector, alpha, epsilon)\n",
    "combined_p = arrayFromDict(p)\n",
    "axs[0].plot(combined_p)\n",
    "axs[0].set_title('preference vector including both nodes')\n",
    "\n",
    "p1 = approximatePageRank(G, {1:1}, alpha, epsilon)\n",
    "vector_p1 = arrayFromDict(p1)\n",
    "p2 = approximatePageRank(G, {2:1}, alpha, epsilon)\n",
    "vector_p2 = arrayFromDict(p2)\n",
    "axs[1].plot(vector_p1)\n",
    "axs[1].plot(vector_p2)\n",
    "axs[1].set_title('preference vector of single nodes')\n",
    "\n",
    "l = max(vector_p1.size, vector_p2.size)\n",
    "if vector_p1.size > vector_p2.size:\n",
    "    vector_p2 = np.append(vector_p2, np.zeros(l-vector_p2.size))\n",
    "else:\n",
    "    vector_p1 = np.append(vector_p1, np.zeros(l-vector_p1.size))\n",
    "\n",
    "vector_p12 = vector_p1 + vector_p2\n",
    "axs[2].plot(vector_p12)\n",
    "axs[2].set_title('sum of results of single nodes')\n",
    "\n",
    "plt.show()"
   ]
  },
  {
   "cell_type": "code",
   "execution_count": null,
   "metadata": {},
   "outputs": [],
   "source": [
    "# select the node target\n",
    "node_target = 100\n",
    "\n",
    "# initialize the list with the stats\n",
    "nodes_vector = [0] * 4\n",
    "our_times_vector = [0] * 4\n",
    "nx_times_vector = [0] * 4\n",
    "\n",
    "# init some parameters\n",
    "personalization_vector = {node_target : 1}\n",
    "alpha = 0.85\n",
    "epsilon = 1e-5"
   ]
  },
  {
   "cell_type": "code",
   "execution_count": null,
   "metadata": {},
   "outputs": [],
   "source": [
    "# Import a network with about 7k nodes\n",
    "path = 'data/networks/lastfm_asia_7000.csv'\n",
    "G = nx.read_edgelist(path, delimiter=',', nodetype=int)\n",
    "A = nx.linalg.graphmatrix.adjacency_matrix(G)\n",
    "print(nx.info(G))\n",
    "print()\n",
    "\n",
    "# Save the number of nodes\n",
    "nodes_vector[0] = G.number_of_nodes()\n",
    "\n",
    "# Compute our Personalized PageRank and save the execution time\n",
    "start = time.time()\n",
    "p = approximatePageRank(G, personalization_vector, alpha, epsilon)\n",
    "stop = time.time()\n",
    "t = str(stop-start)[0:8]\n",
    "our_times_vector[0] = float(t)\n",
    "print('Our implementation of ApproximatePageRank of the node', node_target)\n",
    "print('Elapsed time:', t, 'seconds')\n",
    "p_vector = arrayFromDict(p)\n",
    "\n",
    "# Compute networkx PageRank and save the execution time\n",
    "start = time.time()\n",
    "pr = nx.pagerank(G, personalization=personalization_vector, max_iter=20, weight=None)\n",
    "stop = time.time()\n",
    "t = str(stop-start)[0:8]\n",
    "nx_times_vector[0] = float(t)\n",
    "print('Networkx implementation of PageRank')\n",
    "print('Elapsed time:', t, 'seconds\\n')\n",
    "pr_vector = arrayFromDict(pr)\n",
    "\n",
    "# Plot the difference between the two solutions\n",
    "fig, axs = plt.subplots(1, 2, figsize=(15,6))\n",
    "fig.suptitle('Difference between networkx and our implementation of personalized PageRank')\n",
    "axs[0].plot(pr_vector)\n",
    "axs[0].set_title('Networkx implementation')\n",
    "axs[1].plot(p_vector)\n",
    "axs[1].set_title('Our implementation')\n",
    "plt.show()"
   ]
  },
  {
   "cell_type": "code",
   "execution_count": null,
   "metadata": {},
   "outputs": [],
   "source": [
    "# Import a network with about 22k nodes\n",
    "path = 'data/networks/musae_facebook_22000.csv'\n",
    "G = nx.read_edgelist(path, delimiter=',', nodetype=int)\n",
    "A = nx.linalg.graphmatrix.adjacency_matrix(G)\n",
    "print(nx.info(G))\n",
    "print()\n",
    "\n",
    "# Save the number of nodes\n",
    "nodes_vector[1] = G.number_of_nodes()\n",
    "\n",
    "# Compute our Personalized PageRank and save the execution time\n",
    "start = time.time()\n",
    "p = approximatePageRank(G, personalization_vector, alpha, epsilon)\n",
    "stop = time.time()\n",
    "t = str(stop-start)[0:8]\n",
    "our_times_vector[1] = float(t)\n",
    "print('Our implementation of ApproximatePageRank of the node', node_target)\n",
    "print('Elapsed time:', t, 'seconds')\n",
    "p_vector = arrayFromDict(p)\n",
    "\n",
    "# Compute networkx PageRank and save the execution time\n",
    "start = time.time()\n",
    "pr = nx.pagerank(G, personalization=personalization_vector, max_iter=20, weight=None)\n",
    "stop = time.time()\n",
    "t = str(stop-start)[0:8]\n",
    "nx_times_vector[1] = float(t)\n",
    "print('Networkx implementation of PageRank')\n",
    "print('Elapsed time:', t, 'seconds\\n')\n",
    "pr_vector = arrayFromDict(pr)\n",
    "\n",
    "# Plot the difference between the two solutions\n",
    "fig, axs = plt.subplots(1, 2, figsize=(15,6))\n",
    "fig.suptitle('Difference between networkx and our implementation of personalized PageRank')\n",
    "axs[0].plot(pr_vector)\n",
    "axs[0].set_title('Networkx implementation')\n",
    "axs[1].plot(p_vector)\n",
    "axs[1].set_title('Our implementation')\n",
    "plt.show()"
   ]
  },
  {
   "cell_type": "code",
   "execution_count": null,
   "metadata": {},
   "outputs": [],
   "source": [
    "# Import a network with about 335k nodes\n",
    "path = 'data/networks/amazon_335000.txt'\n",
    "G = nx.read_edgelist(path, delimiter='\\t', nodetype=int)\n",
    "A = nx.linalg.graphmatrix.adjacency_matrix(G)\n",
    "print(nx.info(G))\n",
    "print()\n",
    "\n",
    "# Save the number of nodes\n",
    "nodes_vector[2] = G.number_of_nodes()\n",
    "\n",
    "# Compute our Personalized PageRank and save the execution time\n",
    "start = time.time()\n",
    "p = approximatePageRank(G, personalization_vector, alpha, epsilon)\n",
    "stop = time.time()\n",
    "t = str(stop-start)[0:8]\n",
    "our_times_vector[2] = float(t)\n",
    "print('Our implementation of ApproximatePageRank of the node', node_target)\n",
    "print('Elapsed time:', t, 'seconds')\n",
    "p_vector = arrayFromDict(p)\n",
    "\n",
    "# Compute networkx PageRank and save the execution time\n",
    "start = time.time()\n",
    "pr = nx.pagerank(G, personalization=personalization_vector, max_iter=20, weight=None)\n",
    "stop = time.time()\n",
    "t = str(stop-start)[0:8]\n",
    "nx_times_vector[2] = float(t)\n",
    "print('Networkx implementation of PageRank')\n",
    "print('Elapsed time:', t, 'seconds\\n')\n",
    "pr_vector = arrayFromDict(pr)\n",
    "\n",
    "# Plot the difference between the two solutions\n",
    "fig, axs = plt.subplots(1, 2, figsize=(15,6))\n",
    "fig.suptitle('Difference between networkx and our implementation of personalized PageRank')\n",
    "axs[0].plot(pr_vector)\n",
    "axs[0].set_title('Networkx implementation')\n",
    "axs[1].plot(p_vector)\n",
    "axs[1].set_title('Our implementation')\n",
    "plt.show()"
   ]
  },
  {
   "cell_type": "code",
   "execution_count": null,
   "metadata": {},
   "outputs": [],
   "source": [
    "# Import a network with about 1135k nodes\n",
    "path = 'data/networks/youtube_1135000.txt'\n",
    "G = nx.read_edgelist(path, delimiter='\\t', nodetype=int)\n",
    "A = nx.linalg.graphmatrix.adjacency_matrix(G)\n",
    "print(nx.info(G))\n",
    "print()\n",
    "\n",
    "# Save the number of nodes\n",
    "nodes_vector[3] = G.number_of_nodes()\n",
    "\n",
    "# Compute our Personalized PageRank and save the execution time\n",
    "start = time.time()\n",
    "p = approximatePageRank(G, personalization_vector, alpha, epsilon)\n",
    "stop = time.time()\n",
    "t = str(stop-start)[0:8]\n",
    "our_times_vector[3] = float(t)\n",
    "print('Our implementation of ApproximatePageRank of the node', node_target)\n",
    "print('Elapsed time:', t, 'seconds')\n",
    "p_vector = arrayFromDict(p)\n",
    "\n",
    "# Compute networkx PageRank and save the execution time\n",
    "start = time.time()\n",
    "pr = nx.pagerank(G, personalization=personalization_vector, max_iter=20, weight=None)\n",
    "stop = time.time()\n",
    "t = str(stop-start)[0:8]\n",
    "nx_times_vector[3] = float(t)\n",
    "print('Networkx implementation of PageRank')\n",
    "print('Elapsed time:', t, 'seconds\\n')\n",
    "pr_vector = arrayFromDict(pr)\n",
    "\n",
    "# Plot the difference between the two solutions\n",
    "fig, axs = plt.subplots(1, 2, figsize=(15,6))\n",
    "fig.suptitle('Difference between networkx and our implementation of personalized PageRank')\n",
    "axs[0].plot(pr_vector)\n",
    "axs[0].set_title('Networkx implementation')\n",
    "axs[1].plot(p_vector)\n",
    "axs[1].set_title('Our implementation')\n",
    "plt.show()"
   ]
  },
  {
   "cell_type": "code",
   "execution_count": null,
   "metadata": {},
   "outputs": [],
   "source": [
    "# Plot the execution time over the number of the nodes of both the implementation\n",
    "plt.figure(figsize=(8,5))\n",
    "plt.plot(nodes_vector, nx_times_vector, 'r*-', label='networkx PR')\n",
    "plt.plot(nodes_vector, our_times_vector, 'bo-', label='our approximatePR')\n",
    "plt.title('Execution time over the number of nodes')\n",
    "plt.xlabel('# nodes')\n",
    "plt.ylabel('time [s]')\n",
    "plt.legend()\n",
    "plt.show()"
   ]
  }
 ],
 "metadata": {
  "kernelspec": {
   "display_name": "Python 3",
   "language": "python",
   "name": "python3"
  },
  "language_info": {
   "codemirror_mode": {
    "name": "ipython",
    "version": 3
   },
   "file_extension": ".py",
   "mimetype": "text/x-python",
   "name": "python",
   "nbconvert_exporter": "python",
   "pygments_lexer": "ipython3",
   "version": "3.7.3"
  }
 },
 "nbformat": 4,
 "nbformat_minor": 2
}
