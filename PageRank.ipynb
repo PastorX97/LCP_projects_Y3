{
 "cells": [
  {
   "cell_type": "code",
   "execution_count": null,
   "metadata": {},
   "outputs": [],
   "source": [
    "import numpy as np\n",
    "import scipy as sp\n",
    "import matplotlib.pyplot as plt\n",
    "import networkx as nx\n",
    "import pandas as pd\n",
    "from operator import truediv"
   ]
  },
  {
   "cell_type": "code",
   "execution_count": null,
   "metadata": {},
   "outputs": [],
   "source": [
    "#compute PageRank algorith with power iteration\n",
    "def pageRank(M, t, iterations):\n",
    "    N = M.shape[1]\n",
    "    c = 0.85\n",
    "    p = np.ones(N)/N\n",
    "\n",
    "    for i in range(iterations):\n",
    "        p = c * M * p + (1-c) * t #pagerank formula\n",
    "        p = p/sum(p) #normalization\n",
    "\n",
    "    return p"
   ]
  },
  {
   "cell_type": "code",
   "execution_count": null,
   "metadata": {},
   "outputs": [],
   "source": [
    "path = 'data/wiki-Vote.txt'\n",
    "G = nx.read_edgelist(path, delimiter='\\t', create_using=nx.DiGraph, nodetype=int)\n",
    "A = nx.linalg.graphmatrix.adjacency_matrix(G)\n",
    "N = A.shape[0]\n",
    "print(nx.info(G))"
   ]
  },
  {
   "cell_type": "code",
   "execution_count": null,
   "metadata": {},
   "outputs": [],
   "source": [
    "plt.spy(A, marker=',')\n",
    "plt.show()"
   ]
  },
  {
   "cell_type": "code",
   "execution_count": null,
   "metadata": {},
   "outputs": [],
   "source": [
    "#for normal pagerank all nodes have the same teleport probability\n",
    "#t = np.ones(N)/N \n",
    "\n",
    "#for local pagerank only a subset of nodes have non-negative probabilty\n",
    "t = np.zeros(N)\n",
    "t[3000] = 1\n",
    "\n",
    "p = pageRank(A, t, 40)\n",
    "plt.plot(p)\n",
    "plt.show()"
   ]
  },
  {
   "cell_type": "markdown",
   "metadata": {},
   "source": [
    "FIRST TRIAL\n",
    "\n",
    "\n",
    "\n"
   ]
  },
  {
   "cell_type": "code",
   "execution_count": null,
   "metadata": {},
   "outputs": [],
   "source": [
    "def push(node, pr_vector, residuals, G, degrees):\n",
    "    \n",
    "    # constant\n",
    "    alfa = 0.15\n",
    "    # actual residual of the target node\n",
    "    current_res = residuals[str(node)]\n",
    "\n",
    "    # compute the new rank for the target node\n",
    "    pr_vector[str(node)] += alfa * current_res\n",
    "    # decrease the residual of the target node\n",
    "    residuals[str(node)] = (1-alfa) * current_res / 2\n",
    "\n",
    "    # calculate the residuals for the neighbors of the target node\n",
    "    for neighbour in G.out_degree(node):\n",
    "        residuals[str(neighbour)] += (1-alfa) * current_res / (2 * degrees[str(node)])\n",
    "\n",
    "    return pr_vector, residuals"
   ]
  },
  {
   "cell_type": "code",
   "execution_count": null,
   "metadata": {},
   "outputs": [],
   "source": [
    "def pageRankApproximate(G, epsilon, node):\n",
    "\n",
    "    all_nodes = G.nodes()\n",
    "\n",
    "    # extract the dimension of the matrix\n",
    "    N = len(all_nodes)\n",
    "    # degrees of the nodes\n",
    "    degrees = {}\n",
    "    for n in all_nodes:\n",
    "        degrees[str(n)] = G.degree(n)\n",
    "\n",
    "    # pagerank vector\n",
    "    pr_vector = {}\n",
    "    for i in all_nodes:\n",
    "        pr_vector[str(i)] = 0\n",
    "\n",
    "    # residuals vector\n",
    "    residuals = {}\n",
    "    for i in all_nodes:\n",
    "        residuals[str(i)] = 0\n",
    "    residuals[str(node)] = 1\n",
    "\n",
    "    # residuals/nodes' degree\n",
    "    res_over_deg = {}\n",
    "    for i in all_nodes:\n",
    "        val = residuals[str(i)] / degrees[str(i)]\n",
    "        if (val > 0):\n",
    "            res_over_deg[str(i)] = val\n",
    "\n",
    "    while (bool(res_over_deg)):\n",
    "        queue = list(res_over_deg.keys())\n",
    "        while (len(queue) > 0):\n",
    "            u = queue[0]\n",
    "            while (res_over_deg[u] >= epsilon):\n",
    "                pr_vector, residuals = push(u, pr_vector, residuals, G, degrees)\n",
    "                res_over_deg.clear()\n",
    "                for i in all_nodes:\n",
    "                    val = residuals[str(i)] / degrees[str(i)]\n",
    "                    if (val >= epsilon):\n",
    "                        res_over_deg[str(i)] = val\n",
    "            del queue[0]\n",
    "        \n",
    "            \n",
    "        res_over_deg.clear()\n",
    "        for i in all_nodes:\n",
    "            val = residuals[str(i)] / degrees[str(i)]\n",
    "            if (val > 0):\n",
    "                res_over_deg[str(i)] = val\n",
    "\n",
    "    return pr_vector"
   ]
  },
  {
   "cell_type": "code",
   "execution_count": null,
   "metadata": {
    "tags": []
   },
   "outputs": [],
   "source": [
    "p = pageRankApproximate(G, 0.01, 3000)\n",
    "plt.plot(p)\n",
    "plt.show()"
   ]
  },
  {
   "cell_type": "markdown",
   "metadata": {},
   "source": [
    "SECOND TRIAL (fast approach)"
   ]
  },
  {
   "cell_type": "code",
   "execution_count": null,
   "metadata": {},
   "outputs": [],
   "source": [
    "def fastPRApproximate(M, epsilon, node):\n",
    "\n",
    "    # extract the dimension of the matrix\n",
    "    N = M.shape[1]\n",
    "    # degrees of the nodes\n",
    "    degrees = sp.sparse.csr_matrix.sum(M, axis=1)\n",
    "    degrees = np.squeeze(np.asarray(degrees))\n",
    "\n",
    "    alpha = 0.85\n",
    "\n",
    "    # pagerank vector\n",
    "    pr_vector = np.zeros(N)\n",
    "\n",
    "    # residuals vector\n",
    "    residuals = np.zeros(N)\n",
    "    residuals[node] = 1\n",
    "\n",
    "    # residuals/nodes' degree\n",
    "    res_over_deg = list(map(truediv, residuals, degrees))\n",
    "\n",
    "    while (not isEmpty(find(res_over_deg, alpha*epsilon))):\n",
    "        queue = find(res_over_deg, alpha*epsilon)\n",
    "        while (not isEmpty(queue)):\n",
    "            v = queue[0]\n",
    "            pr_vector[v] += residuals[v]\n",
    "            m = (1 - alpha) * residuals[v] / degrees[v]\n",
    "            residuals[v] = 0\n",
    "            for u in connectedNodes(v, M):\n",
    "                residuals[u] += m\n",
    "            del queue[0]\n",
    "        res_over_deg = list(map(truediv, residuals, degrees))\n",
    "\n",
    "    return pr_vector"
   ]
  },
  {
   "cell_type": "code",
   "execution_count": null,
   "metadata": {},
   "outputs": [],
   "source": [
    "p = fastPRApproximate(A, 0.01, 3000)\n",
    "plt.plot(p)\n",
    "plt.show()"
   ]
  },
  {
   "cell_type": "markdown",
   "metadata": {},
   "source": [
    "THIRD TRIAL"
   ]
  },
  {
   "cell_type": "code",
   "execution_count": null,
   "metadata": {},
   "outputs": [],
   "source": [
    "def ghesboro(M, alpha, epsilon, node):\n",
    "\n",
    "    alpha_eps = alpha*epsilon\n",
    "\n",
    "    # extract the dimension of the matrix\n",
    "    N = M.shape[1]\n",
    "\n",
    "    # degrees of the nodes\n",
    "    degrees = sp.sparse.csr_matrix.sum(M, axis=1)\n",
    "    degrees = np.squeeze(np.asarray(degrees))\n",
    "\n",
    "    # pagerank vector\n",
    "    pr_vector = np.zeros(N)\n",
    "\n",
    "    # residuals vector\n",
    "    residuals = np.zeros(N)\n",
    "    residuals[node] = alpha\n",
    "\n",
    "    queue = [node]\n",
    "\n",
    "    while (len(queue) > 0):\n",
    "\n",
    "        u = queue[0]\n",
    "        res = residuals[u]\n",
    "\n",
    "        pr_vector += res\n",
    "        residuals[u] = 0\n",
    "\n",
    "        for v in connectedNodes(u, M):\n",
    "\n",
    "            val = (1 - alpha) * res / degrees[u]\n",
    "            residuals[v] += val\n",
    "\n",
    "            res_v = residuals[v]\n",
    "            if res_v >= alpha_eps * degrees[v]:\n",
    "                queue.append(v)\n",
    "\n",
    "        del queue[0]\n",
    "    \n",
    "    return pr_vector"
   ]
  },
  {
   "cell_type": "code",
   "execution_count": null,
   "metadata": {},
   "outputs": [],
   "source": [
    "p = ghesboro(A, 0.85, 0.01, 3000)\n",
    "plt.plot(p)\n",
    "plt.show()"
   ]
  },
  {
   "cell_type": "code",
   "execution_count": null,
   "metadata": {},
   "outputs": [],
   "source": []
  }
 ],
 "metadata": {
  "kernelspec": {
   "display_name": "Python 3",
   "language": "python",
   "name": "python3"
  },
  "language_info": {
   "codemirror_mode": {
    "name": "ipython",
    "version": 3
   },
   "file_extension": ".py",
   "mimetype": "text/x-python",
   "name": "python",
   "nbconvert_exporter": "python",
   "pygments_lexer": "ipython3",
   "version": "3.8.3"
  }
 },
 "nbformat": 4,
 "nbformat_minor": 2
}
